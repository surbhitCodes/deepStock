{
 "cells": [
  {
   "cell_type": "code",
   "id": "initial_id",
   "metadata": {
    "collapsed": true,
    "ExecuteTime": {
     "end_time": "2024-11-04T02:40:33.955178Z",
     "start_time": "2024-11-04T02:40:31.839891Z"
    }
   },
   "source": "",
   "outputs": [],
   "execution_count": 1
  },
  {
   "metadata": {
    "ExecuteTime": {
     "end_time": "2024-11-04T02:40:33.962677Z",
     "start_time": "2024-11-04T02:40:33.958481Z"
    }
   },
   "cell_type": "code",
   "source": [
    "# connect db\n",
    "client = MongoClient('localhost', 27017)\n",
    "db = client['deepStockDB']\n",
    "news_collection = db['news_collection']\n"
   ],
   "id": "bd253aa776684e16",
   "outputs": [],
   "execution_count": 2
  },
  {
   "metadata": {
    "ExecuteTime": {
     "end_time": "2024-11-04T02:40:34.202247Z",
     "start_time": "2024-11-04T02:40:34.200820Z"
    }
   },
   "cell_type": "code",
   "source": "",
   "id": "7326701ff0aba9ed",
   "outputs": [],
   "execution_count": null
  }
 ],
 "metadata": {
  "kernelspec": {
   "display_name": "Python 3",
   "language": "python",
   "name": "python3"
  },
  "language_info": {
   "codemirror_mode": {
    "name": "ipython",
    "version": 2
   },
   "file_extension": ".py",
   "mimetype": "text/x-python",
   "name": "python",
   "nbconvert_exporter": "python",
   "pygments_lexer": "ipython2",
   "version": "2.7.6"
  }
 },
 "nbformat": 4,
 "nbformat_minor": 5
}

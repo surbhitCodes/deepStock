{
 "cells": [
  {
   "cell_type": "code",
   "execution_count": 1,
   "id": "initial_id",
   "metadata": {
    "ExecuteTime": {
     "end_time": "2024-11-04T02:40:33.955178Z",
     "start_time": "2024-11-04T02:40:31.839891Z"
    },
    "collapsed": true
   },
   "outputs": [],
   "source": [
    "from pymongo import MongoClient"
   ]
  },
  {
   "cell_type": "code",
   "execution_count": 2,
   "id": "bd253aa776684e16",
   "metadata": {
    "ExecuteTime": {
     "end_time": "2024-11-04T02:40:33.962677Z",
     "start_time": "2024-11-04T02:40:33.958481Z"
    }
   },
   "outputs": [],
   "source": [
    "# connect db\n",
    "client = MongoClient('localhost', 27017)\n",
    "db = client['deepStockDB']\n",
    "news_collection = db['news_collection']\n"
   ]
  },
  {
   "cell_type": "code",
   "execution_count": null,
   "id": "7326701ff0aba9ed",
   "metadata": {
    "ExecuteTime": {
     "end_time": "2024-11-04T02:40:34.202247Z",
     "start_time": "2024-11-04T02:40:34.200820Z"
    }
   },
   "outputs": [],
   "source": []
  }
 ],
 "metadata": {
  "kernelspec": {
   "display_name": "ds_env",
   "language": "python",
   "name": "python3"
  },
  "language_info": {
   "codemirror_mode": {
    "name": "ipython",
    "version": 2
   },
   "file_extension": ".py",
   "mimetype": "text/x-python",
   "name": "python",
   "nbconvert_exporter": "python",
   "pygments_lexer": "ipython2",
   "version": "3.10.16"
  }
 },
 "nbformat": 4,
 "nbformat_minor": 5
}

{
 "cells": [
  {
   "metadata": {
    "ExecuteTime": {
     "end_time": "2024-11-03T05:21:01.321283Z",
     "start_time": "2024-11-03T05:21:00.654063Z"
    }
   },
   "cell_type": "code",
   "source": [
    "from idlelib.rpc import response_queue\n",
    "\n",
    "import requests\n",
    "from black import datetime\n",
    "from bs4 import BeautifulSoup\n",
    "import pandas as pd\n",
    "from dateutil.utils import today"
   ],
   "id": "e2f79cdb43a4cafa",
   "outputs": [],
   "execution_count": 1
  },
  {
   "metadata": {
    "ExecuteTime": {
     "end_time": "2024-11-03T05:21:01.326192Z",
     "start_time": "2024-11-03T05:21:01.324564Z"
    }
   },
   "cell_type": "code",
   "source": [
    "# url = 'https://www.moneycontrol.com/news/business/stocks/'\n",
    "url = 'https://economictimes.indiatimes.com/markets/stocks/news'"
   ],
   "id": "2ea84db24c7f7641",
   "outputs": [],
   "execution_count": 2
  },
  {
   "metadata": {
    "ExecuteTime": {
     "end_time": "2024-11-03T05:21:01.599704Z",
     "start_time": "2024-11-03T05:21:01.598123Z"
    }
   },
   "cell_type": "code",
   "source": "headers = {'User-Agent':'Mozilla/5.0'}",
   "id": "1a209f0ca35c1415",
   "outputs": [],
   "execution_count": 3
  },
  {
   "metadata": {
    "ExecuteTime": {
     "end_time": "2024-11-03T05:21:02.219068Z",
     "start_time": "2024-11-03T05:21:01.603825Z"
    }
   },
   "cell_type": "code",
   "source": [
    "# send requests to webpage\n",
    "response = requests.get(url, headers=headers)\n",
    "soup = BeautifulSoup(response.text, 'html.parser')"
   ],
   "id": "c26168a6521c51e",
   "outputs": [],
   "execution_count": 4
  },
  {
   "metadata": {
    "ExecuteTime": {
     "end_time": "2024-11-03T05:21:02.241833Z",
     "start_time": "2024-11-03T05:21:02.240227Z"
    }
   },
   "cell_type": "code",
   "source": "news_data = [] # list to store data",
   "id": "801c7b6a5ca0504e",
   "outputs": [],
   "execution_count": 5
  },
  {
   "metadata": {
    "ExecuteTime": {
     "end_time": "2024-11-03T05:21:02.273102Z",
     "start_time": "2024-11-03T05:21:02.262790Z"
    }
   },
   "cell_type": "code",
   "source": [
    "# extract all news\n",
    "\n",
    "# Assuming articles are in <div> tags with the class 'eachStory'\n",
    "articles = soup.find_all('div', class_='eachStory')\n",
    "\n",
    "for article in articles:\n",
    "    # Extract news heading from <a> tag inside the <div>\n",
    "    title_tag = article.find('a')\n",
    "    news_heading = title_tag.get_text(strip=True) if title_tag else 'N/A'\n",
    "\n",
    "    # Extract the link to the article\n",
    "    news_link = title_tag['href'] if title_tag else 'N/A'\n",
    "\n",
    "    # Extract publication date, assuming it's inside a <time> tag\n",
    "    date_tag = article.find('time')\n",
    "    date = date_tag.get_text(strip=True) if date_tag else 'N/A'\n",
    "\n",
    "    # Stock name - Adjust this part based on actual data format\n",
    "    stock_name = news_heading.split(';')[0].split()[1] if news_heading != 'N/A' else 'SampleStock'\n",
    "\n",
    "    # Append to the data list\n",
    "    news_data.append({\n",
    "        'date': date,\n",
    "        'news_heading': news_heading,\n",
    "        'link': 'https:/www.economictimes.com'+news_link\n",
    "    })\n",
    "\n",
    "# Convert to a DataFrame\n",
    "news_df = pd.DataFrame(news_data)\n",
    "\n",
    "news_df\n"
   ],
   "id": "fa175b9501899e8c",
   "outputs": [
    {
     "data": {
      "text/plain": [
       "                         date  \\\n",
       "0   Nov 3, 2024, 09:46 AM IST   \n",
       "1   Nov 3, 2024, 09:56 AM IST   \n",
       "2   Nov 2, 2024, 03:21 PM IST   \n",
       "3   Nov 3, 2024, 05:00 AM IST   \n",
       "4   Nov 2, 2024, 04:59 PM IST   \n",
       "5   Nov 2, 2024, 03:50 PM IST   \n",
       "6   Nov 2, 2024, 03:31 PM IST   \n",
       "7   Nov 2, 2024, 03:07 PM IST   \n",
       "8   Nov 2, 2024, 12:18 PM IST   \n",
       "9   Nov 2, 2024, 06:26 PM IST   \n",
       "10  Nov 2, 2024, 10:59 AM IST   \n",
       "11  Nov 2, 2024, 10:56 AM IST   \n",
       "12  Nov 2, 2024, 10:46 AM IST   \n",
       "13  Nov 2, 2024, 09:43 AM IST   \n",
       "14  Nov 2, 2024, 09:30 AM IST   \n",
       "15  Nov 2, 2024, 09:26 AM IST   \n",
       "\n",
       "                                         news_heading  \\\n",
       "0   Swiggy IPO: GMP at 5% in unlisted market 3 day...   \n",
       "1   US election, Q2 earnings, Fed meet and 5 more ...   \n",
       "2   Vedanta, Coal India among top 10 stocks with u...   \n",
       "3   For medium-term investors: Even in times of co...   \n",
       "4   Power stocks: Don't switch them off. 5 stocks ...   \n",
       "5   Small and midcap stocks rally up to 44% in one...   \n",
       "6   Dalal Street Week Ahead:  Nifty not out of the...   \n",
       "7   Stay with select few with tailwinds of either ...   \n",
       "8   FPIs record unprecedented Rs 1.13 lakh crore s...   \n",
       "9   Amitabh Bachchan to Rahul Dravid: Know the sta...   \n",
       "10  Stock picks of the week: 5 stocks with consist...   \n",
       "11  Coal India, REC among 41 stocks with record da...   \n",
       "12  NSE launches new mobile app, upgrades website ...   \n",
       "13  Planning to spot wealth creators in chemical s...   \n",
       "14  Primary markets can become as efficient as sec...   \n",
       "15  How inflation and interest rates are shaping i...   \n",
       "\n",
       "                                                 link  \n",
       "0   https:/www.economictimes.com/markets/stocks/ne...  \n",
       "1   https:/www.economictimes.com/markets/stocks/ne...  \n",
       "2   https:/www.economictimes.com/markets/stocks/ne...  \n",
       "3   https:/www.economictimes.com/markets/stocks/ne...  \n",
       "4   https:/www.economictimes.com/markets/stocks/ne...  \n",
       "5   https:/www.economictimes.com/markets/stocks/ne...  \n",
       "6   https:/www.economictimes.com/markets/stocks/ne...  \n",
       "7   https:/www.economictimes.com/markets/stocks/ne...  \n",
       "8   https:/www.economictimes.com/markets/stocks/ne...  \n",
       "9   https:/www.economictimes.com/markets/stocks/ne...  \n",
       "10  https:/www.economictimes.com/markets/stocks/ne...  \n",
       "11  https:/www.economictimes.com/markets/stocks/ne...  \n",
       "12  https:/www.economictimes.com/markets/stocks/ne...  \n",
       "13  https:/www.economictimes.com/markets/stocks/ne...  \n",
       "14  https:/www.economictimes.com/markets/stocks/ne...  \n",
       "15  https:/www.economictimes.com/markets/stocks/ne...  "
      ],
      "text/html": [
       "<div>\n",
       "<style scoped>\n",
       "    .dataframe tbody tr th:only-of-type {\n",
       "        vertical-align: middle;\n",
       "    }\n",
       "\n",
       "    .dataframe tbody tr th {\n",
       "        vertical-align: top;\n",
       "    }\n",
       "\n",
       "    .dataframe thead th {\n",
       "        text-align: right;\n",
       "    }\n",
       "</style>\n",
       "<table border=\"1\" class=\"dataframe\">\n",
       "  <thead>\n",
       "    <tr style=\"text-align: right;\">\n",
       "      <th></th>\n",
       "      <th>date</th>\n",
       "      <th>news_heading</th>\n",
       "      <th>link</th>\n",
       "    </tr>\n",
       "  </thead>\n",
       "  <tbody>\n",
       "    <tr>\n",
       "      <th>0</th>\n",
       "      <td>Nov 3, 2024, 09:46 AM IST</td>\n",
       "      <td>Swiggy IPO: GMP at 5% in unlisted market 3 day...</td>\n",
       "      <td>https:/www.economictimes.com/markets/stocks/ne...</td>\n",
       "    </tr>\n",
       "    <tr>\n",
       "      <th>1</th>\n",
       "      <td>Nov 3, 2024, 09:56 AM IST</td>\n",
       "      <td>US election, Q2 earnings, Fed meet and 5 more ...</td>\n",
       "      <td>https:/www.economictimes.com/markets/stocks/ne...</td>\n",
       "    </tr>\n",
       "    <tr>\n",
       "      <th>2</th>\n",
       "      <td>Nov 2, 2024, 03:21 PM IST</td>\n",
       "      <td>Vedanta, Coal India among top 10 stocks with u...</td>\n",
       "      <td>https:/www.economictimes.com/markets/stocks/ne...</td>\n",
       "    </tr>\n",
       "    <tr>\n",
       "      <th>3</th>\n",
       "      <td>Nov 3, 2024, 05:00 AM IST</td>\n",
       "      <td>For medium-term investors: Even in times of co...</td>\n",
       "      <td>https:/www.economictimes.com/markets/stocks/ne...</td>\n",
       "    </tr>\n",
       "    <tr>\n",
       "      <th>4</th>\n",
       "      <td>Nov 2, 2024, 04:59 PM IST</td>\n",
       "      <td>Power stocks: Don't switch them off. 5 stocks ...</td>\n",
       "      <td>https:/www.economictimes.com/markets/stocks/ne...</td>\n",
       "    </tr>\n",
       "    <tr>\n",
       "      <th>5</th>\n",
       "      <td>Nov 2, 2024, 03:50 PM IST</td>\n",
       "      <td>Small and midcap stocks rally up to 44% in one...</td>\n",
       "      <td>https:/www.economictimes.com/markets/stocks/ne...</td>\n",
       "    </tr>\n",
       "    <tr>\n",
       "      <th>6</th>\n",
       "      <td>Nov 2, 2024, 03:31 PM IST</td>\n",
       "      <td>Dalal Street Week Ahead:  Nifty not out of the...</td>\n",
       "      <td>https:/www.economictimes.com/markets/stocks/ne...</td>\n",
       "    </tr>\n",
       "    <tr>\n",
       "      <th>7</th>\n",
       "      <td>Nov 2, 2024, 03:07 PM IST</td>\n",
       "      <td>Stay with select few with tailwinds of either ...</td>\n",
       "      <td>https:/www.economictimes.com/markets/stocks/ne...</td>\n",
       "    </tr>\n",
       "    <tr>\n",
       "      <th>8</th>\n",
       "      <td>Nov 2, 2024, 12:18 PM IST</td>\n",
       "      <td>FPIs record unprecedented Rs 1.13 lakh crore s...</td>\n",
       "      <td>https:/www.economictimes.com/markets/stocks/ne...</td>\n",
       "    </tr>\n",
       "    <tr>\n",
       "      <th>9</th>\n",
       "      <td>Nov 2, 2024, 06:26 PM IST</td>\n",
       "      <td>Amitabh Bachchan to Rahul Dravid: Know the sta...</td>\n",
       "      <td>https:/www.economictimes.com/markets/stocks/ne...</td>\n",
       "    </tr>\n",
       "    <tr>\n",
       "      <th>10</th>\n",
       "      <td>Nov 2, 2024, 10:59 AM IST</td>\n",
       "      <td>Stock picks of the week: 5 stocks with consist...</td>\n",
       "      <td>https:/www.economictimes.com/markets/stocks/ne...</td>\n",
       "    </tr>\n",
       "    <tr>\n",
       "      <th>11</th>\n",
       "      <td>Nov 2, 2024, 10:56 AM IST</td>\n",
       "      <td>Coal India, REC among 41 stocks with record da...</td>\n",
       "      <td>https:/www.economictimes.com/markets/stocks/ne...</td>\n",
       "    </tr>\n",
       "    <tr>\n",
       "      <th>12</th>\n",
       "      <td>Nov 2, 2024, 10:46 AM IST</td>\n",
       "      <td>NSE launches new mobile app, upgrades website ...</td>\n",
       "      <td>https:/www.economictimes.com/markets/stocks/ne...</td>\n",
       "    </tr>\n",
       "    <tr>\n",
       "      <th>13</th>\n",
       "      <td>Nov 2, 2024, 09:43 AM IST</td>\n",
       "      <td>Planning to spot wealth creators in chemical s...</td>\n",
       "      <td>https:/www.economictimes.com/markets/stocks/ne...</td>\n",
       "    </tr>\n",
       "    <tr>\n",
       "      <th>14</th>\n",
       "      <td>Nov 2, 2024, 09:30 AM IST</td>\n",
       "      <td>Primary markets can become as efficient as sec...</td>\n",
       "      <td>https:/www.economictimes.com/markets/stocks/ne...</td>\n",
       "    </tr>\n",
       "    <tr>\n",
       "      <th>15</th>\n",
       "      <td>Nov 2, 2024, 09:26 AM IST</td>\n",
       "      <td>How inflation and interest rates are shaping i...</td>\n",
       "      <td>https:/www.economictimes.com/markets/stocks/ne...</td>\n",
       "    </tr>\n",
       "  </tbody>\n",
       "</table>\n",
       "</div>"
      ]
     },
     "execution_count": 6,
     "metadata": {},
     "output_type": "execute_result"
    }
   ],
   "execution_count": 6
  },
  {
   "metadata": {
    "ExecuteTime": {
     "end_time": "2024-11-03T05:21:02.313482Z",
     "start_time": "2024-11-03T05:21:02.312183Z"
    }
   },
   "cell_type": "code",
   "source": "",
   "id": "b67b73f0ac090c56",
   "outputs": [],
   "execution_count": null
  }
 ],
 "metadata": {
  "kernelspec": {
   "display_name": "Python 3",
   "language": "python",
   "name": "python3"
  },
  "language_info": {
   "codemirror_mode": {
    "name": "ipython",
    "version": 2
   },
   "file_extension": ".py",
   "mimetype": "text/x-python",
   "name": "python",
   "nbconvert_exporter": "python",
   "pygments_lexer": "ipython2",
   "version": "2.7.6"
  }
 },
 "nbformat": 4,
 "nbformat_minor": 5
}
